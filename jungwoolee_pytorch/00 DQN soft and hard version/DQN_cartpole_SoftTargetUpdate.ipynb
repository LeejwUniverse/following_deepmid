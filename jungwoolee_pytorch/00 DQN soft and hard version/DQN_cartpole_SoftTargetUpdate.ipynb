{
 "cells": [
  {
   "cell_type": "code",
   "execution_count": 1,
   "metadata": {},
   "outputs": [],
   "source": [
    "import gym\n",
    "import torch\n",
    "import torch.nn as nn\n",
    "import torch.nn.functional as F\n",
    "import torch.optim as optim\n",
    "from torch.distributions import Categorical\n",
    "from torch.distributions import Normal\n",
    "import matplotlib.pyplot as plt\n",
    "import numpy as np\n",
    "import time\n",
    "from collections import deque\n",
    "import random"
   ]
  },
  {
   "cell_type": "code",
   "execution_count": 2,
   "metadata": {},
   "outputs": [],
   "source": [
    "class Q(nn.Module):\n",
    "    def __init__(self, state_space, action_space):\n",
    "        super(Q, self).__init__()\n",
    "        self.fc1 = nn.Linear(state_space,64)\n",
    "        self.fc2 = nn.Linear(64,64)\n",
    "        self.fc3 = nn.Linear(64,action_space)\n",
    "    \n",
    "    def forward(self, x):\n",
    "        x = torch.relu(self.fc1(x))\n",
    "        x = torch.relu(self.fc2(x))\n",
    "        Q_values = self.fc3(x)\n",
    "        \n",
    "        return Q_values"
   ]
  },
  {
   "cell_type": "code",
   "execution_count": 3,
   "metadata": {},
   "outputs": [],
   "source": [
    "def epsilon_greedy(Q_values, action_space, epsilon):\n",
    "    if np.random.rand() <= epsilon: ## 0~1의 균일분포 표준정규분포 난수를 생성. 정해준 epsilon 값보다 작은 random 값이 나오면 \n",
    "        action = random.randrange(action_space) ## action을 random하게 선택합니다.\n",
    "        return action\n",
    "    \n",
    "    else: ## epsilon 값보다 크면, 학습된 Q_player NN 에서 얻어진 Q_values 값중 가장 큰 action을 선택합니다.\n",
    "        return Q_values.argmax().item()"
   ]
  },
  {
   "cell_type": "code",
   "execution_count": 4,
   "metadata": {},
   "outputs": [],
   "source": [
    "def soft_update(net, target_net, tau):\n",
    "    for param, target_param in zip(net.parameters(), target_net.parameters()):\n",
    "        target_param.data.copy_(tau * param.data + (1.0 - tau) * target_param.data)"
   ]
  },
  {
   "cell_type": "code",
   "execution_count": 5,
   "metadata": {},
   "outputs": [],
   "source": [
    "def train(Q_function_net, Q_target_net, random_mini_batch):\n",
    "    gamma = 0.99\n",
    "    eps = 0.001\n",
    "    \n",
    "    # data 분배\n",
    "    mini_batch = np.array(random_mini_batch) \n",
    "    obs = np.vstack(mini_batch[:, 0]) \n",
    "    actions = list(mini_batch[:, 1]) \n",
    "    rewards = list(mini_batch[:, 2])\n",
    "    next_obs = np.vstack(mini_batch[:, 3])\n",
    "    masks = list(mini_batch[:, 4]) \n",
    "\n",
    "    # tensor.\n",
    "    obs = torch.Tensor(obs)\n",
    "    actions = torch.LongTensor(actions).unsqueeze(1)\n",
    "    rewards = torch.Tensor(rewards) \n",
    "    next_obs = torch.Tensor(next_obs)\n",
    "    masks = torch.Tensor(masks)\n",
    "\n",
    "    # get Q-value\n",
    "    Q_values = Q_function_net(torch.Tensor(obs)) ## 계속 학습중인 Q NN에서 예상되는 action의 q_value를 얻어온다.\n",
    "    q_value = Q_values.gather(1, actions).view(-1) ## 각 obs별로 실제 선택된 action들의 q value를 얻어온다. view 해준 이유는 shape을 맞추기 위해.\n",
    "    \n",
    "    # get target\n",
    "    target_q_value = Q_target_net(torch.Tensor(next_obs)).max(1)[0]## 실제 발생된 next_state를 넣어, target에서 예상되어지는 가치 q_value를 구한다.\n",
    "                                                                    ## max함수를 사용하면 [0]에는 value 값이들어 가 있고 [1]에는 index값이 들어가 있다.\n",
    "    Y = rewards + masks * gamma * target_q_value ## 죽었다면, next가 없으므로 얻어진 reward만 추린다.\n",
    "    \n",
    "    # loss 정의 \n",
    "    MSE = torch.nn.MSELoss() ## mean squear error 사용.\n",
    "    loss = MSE(q_value, Y.detach()) ## target은 단순히 주기적으로 업데이트해 네트워크를 유지시키므로, parameter가 미분되선 안된다. 그래서 detach() 해줌.\n",
    "    \n",
    "    # backward 시작!\n",
    "    optimizer.zero_grad()\n",
    "    loss.backward()\n",
    "    optimizer.step()\n",
    "    \n",
    "    # soft target update\n",
    "    soft_update(Q_function_net, Q_target_net, eps)"
   ]
  },
  {
   "cell_type": "code",
   "execution_count": 6,
   "metadata": {},
   "outputs": [],
   "source": [
    "initial_exploration = 2000 ## 10000개의 memory가 쌓이고 나서 학습 시작!\n",
    "learning_rate = 0.0005\n",
    "epsilon = 1 ## epsilon 1 부터 줄어들어감.\n",
    "epsilon_decay = 0.00001 ## episilon 감쇠 값.\n",
    "replay_buffer = deque(maxlen=100000) ## 덱으로 편하게 replay_buffer의 max 값을 정해줍니다. 가득 차게 되면 알아서 FIFO 형태로 데이터 저장됨.\n",
    "batch_size = 32 ## data batch size\n",
    "print_interval = 500 ## 몇 episode 마다 출력할건지.\n",
    "\n",
    "maximum_steps = 500 ## infinite task라 일정 시점에서 게임을 종료 시켜줘야함.\n",
    "episode = 1000000 # episode 정해주기.\n",
    "\n",
    "action_space = 2\n",
    "state_space = 4"
   ]
  },
  {
   "cell_type": "code",
   "execution_count": 7,
   "metadata": {},
   "outputs": [
    {
     "data": {
      "image/png": "[encoded data removed]",
      "text/plain": [
       "<Figure size 432x288 with 1 Axes>"
      ]
     },
     "metadata": {
      "needs_background": "light"
     },
     "output_type": "display_data"
    },
    {
     "name": "stdout",
     "output_type": "stream",
     "text": [
      "episode:  500  step:  11767  epsilon:  0.9023300000004445  score:  23.534\n"
     ]
    },
    {
     "data": {
      "image/png": "[encoded data removed]",
      "text/plain": [
       "<Figure size 432x288 with 1 Axes>"
      ]
     },
     "metadata": {
      "needs_background": "light"
     },
     "output_type": "display_data"
    },
    {
     "name": "stdout",
     "output_type": "stream",
     "text": [
      "episode:  1000  step:  26865  epsilon:  0.7513500000011316  score:  30.196\n"
     ]
    },
    {
     "data": {
      "image/png": "[encoded data removed]",
      "text/plain": [
       "<Figure size 432x288 with 1 Axes>"
      ]
     },
     "metadata": {
      "needs_background": "light"
     },
     "output_type": "display_data"
    },
    {
     "name": "stdout",
     "output_type": "stream",
     "text": [
      "episode:  1500  step:  43368  epsilon:  0.5863200000018827  score:  33.006\n"
     ]
    },
    {
     "data": {
      "image/png": "[encoded data removed]",
      "text/plain": [
       "<Figure size 432x288 with 1 Axes>"
      ]
     },
     "metadata": {
      "needs_background": "light"
     },
     "output_type": "display_data"
    },
    {
     "name": "stdout",
     "output_type": "stream",
     "text": [
      "episode:  2000  step:  72667  epsilon:  0.2933300000020688  score:  58.598\n"
     ]
    },
    {
     "data": {
      "image/png": "[encoded data removed]",
      "text/plain": [
       "<Figure size 432x288 with 1 Axes>"
      ]
     },
     "metadata": {
      "needs_background": "light"
     },
     "output_type": "display_data"
    },
    {
     "name": "stdout",
     "output_type": "stream",
     "text": [
      "episode:  2500  step:  133354  epsilon:  0.05  score:  121.374\n"
     ]
    },
    {
     "ename": "KeyboardInterrupt",
     "evalue": "",
     "output_type": "error",
     "traceback": [
      "\u001b[1;31m---------------------------------------------------------------------------\u001b[0m",
      "\u001b[1;31mKeyboardInterrupt\u001b[0m                         Traceback (most recent call last)",
      "\u001b[1;32m<ipython-input-7-f68e0649eccf>\u001b[0m in \u001b[0;36m<module>\u001b[1;34m\u001b[0m\n\u001b[0;32m     29\u001b[0m             \u001b[0mepsilon\u001b[0m \u001b[1;33m=\u001b[0m \u001b[0mmax\u001b[0m\u001b[1;33m(\u001b[0m\u001b[0mepsilon\u001b[0m\u001b[1;33m,\u001b[0m \u001b[1;36m0.05\u001b[0m\u001b[1;33m)\u001b[0m \u001b[1;31m## 그래도 가끔씩 새로운 exploration을 위해 최소 0.05은 주기.\u001b[0m\u001b[1;33m\u001b[0m\u001b[1;33m\u001b[0m\u001b[0m\n\u001b[0;32m     30\u001b[0m             \u001b[0mrandom_mini_batch\u001b[0m \u001b[1;33m=\u001b[0m \u001b[0mrandom\u001b[0m\u001b[1;33m.\u001b[0m\u001b[0msample\u001b[0m\u001b[1;33m(\u001b[0m\u001b[0mreplay_buffer\u001b[0m\u001b[1;33m,\u001b[0m \u001b[0mbatch_size\u001b[0m\u001b[1;33m)\u001b[0m \u001b[1;31m## random하게 batch_size 만큼 데이터 뽑아줌.\u001b[0m\u001b[1;33m\u001b[0m\u001b[1;33m\u001b[0m\u001b[0m\n\u001b[1;32m---> 31\u001b[1;33m             \u001b[0mtrain\u001b[0m\u001b[1;33m(\u001b[0m\u001b[0mQ_function_net\u001b[0m\u001b[1;33m,\u001b[0m \u001b[0mQ_target_net\u001b[0m\u001b[1;33m,\u001b[0m \u001b[0mrandom_mini_batch\u001b[0m\u001b[1;33m)\u001b[0m\u001b[1;33m\u001b[0m\u001b[1;33m\u001b[0m\u001b[0m\n\u001b[0m\u001b[0;32m     32\u001b[0m \u001b[1;33m\u001b[0m\u001b[0m\n\u001b[0;32m     33\u001b[0m         \u001b[1;32mif\u001b[0m \u001b[0mdone\u001b[0m\u001b[1;33m:\u001b[0m \u001b[1;31m## 죽었다면 게임 초기화를 위한 반복문 탈출\u001b[0m\u001b[1;33m\u001b[0m\u001b[1;33m\u001b[0m\u001b[0m\n",
      "\u001b[1;32m<ipython-input-5-d49de1f56255>\u001b[0m in \u001b[0;36mtrain\u001b[1;34m(Q_function_net, Q_target_net, random_mini_batch)\u001b[0m\n\u001b[0;32m     32\u001b[0m \u001b[1;33m\u001b[0m\u001b[0m\n\u001b[0;32m     33\u001b[0m     \u001b[1;31m# backward 시작!\u001b[0m\u001b[1;33m\u001b[0m\u001b[1;33m\u001b[0m\u001b[1;33m\u001b[0m\u001b[0m\n\u001b[1;32m---> 34\u001b[1;33m     \u001b[0moptimizer\u001b[0m\u001b[1;33m.\u001b[0m\u001b[0mzero_grad\u001b[0m\u001b[1;33m(\u001b[0m\u001b[1;33m)\u001b[0m\u001b[1;33m\u001b[0m\u001b[1;33m\u001b[0m\u001b[0m\n\u001b[0m\u001b[0;32m     35\u001b[0m     \u001b[0mloss\u001b[0m\u001b[1;33m.\u001b[0m\u001b[0mbackward\u001b[0m\u001b[1;33m(\u001b[0m\u001b[1;33m)\u001b[0m\u001b[1;33m\u001b[0m\u001b[1;33m\u001b[0m\u001b[0m\n\u001b[0;32m     36\u001b[0m     \u001b[0moptimizer\u001b[0m\u001b[1;33m.\u001b[0m\u001b[0mstep\u001b[0m\u001b[1;33m(\u001b[0m\u001b[1;33m)\u001b[0m\u001b[1;33m\u001b[0m\u001b[1;33m\u001b[0m\u001b[0m\n",
      "\u001b[1;32m~\\Anaconda3\\envs\\sc\\lib\\site-packages\\torch\\optim\\optimizer.py\u001b[0m in \u001b[0;36mzero_grad\u001b[1;34m(self)\u001b[0m\n\u001b[0;32m    163\u001b[0m                 \u001b[1;32mif\u001b[0m \u001b[0mp\u001b[0m\u001b[1;33m.\u001b[0m\u001b[0mgrad\u001b[0m \u001b[1;32mis\u001b[0m \u001b[1;32mnot\u001b[0m \u001b[1;32mNone\u001b[0m\u001b[1;33m:\u001b[0m\u001b[1;33m\u001b[0m\u001b[1;33m\u001b[0m\u001b[0m\n\u001b[0;32m    164\u001b[0m                     \u001b[0mp\u001b[0m\u001b[1;33m.\u001b[0m\u001b[0mgrad\u001b[0m\u001b[1;33m.\u001b[0m\u001b[0mdetach_\u001b[0m\u001b[1;33m(\u001b[0m\u001b[1;33m)\u001b[0m\u001b[1;33m\u001b[0m\u001b[1;33m\u001b[0m\u001b[0m\n\u001b[1;32m--> 165\u001b[1;33m                     \u001b[0mp\u001b[0m\u001b[1;33m.\u001b[0m\u001b[0mgrad\u001b[0m\u001b[1;33m.\u001b[0m\u001b[0mzero_\u001b[0m\u001b[1;33m(\u001b[0m\u001b[1;33m)\u001b[0m\u001b[1;33m\u001b[0m\u001b[1;33m\u001b[0m\u001b[0m\n\u001b[0m\u001b[0;32m    166\u001b[0m \u001b[1;33m\u001b[0m\u001b[0m\n\u001b[0;32m    167\u001b[0m     \u001b[1;32mdef\u001b[0m \u001b[0mstep\u001b[0m\u001b[1;33m(\u001b[0m\u001b[0mself\u001b[0m\u001b[1;33m,\u001b[0m \u001b[0mclosure\u001b[0m\u001b[1;33m)\u001b[0m\u001b[1;33m:\u001b[0m\u001b[1;33m\u001b[0m\u001b[1;33m\u001b[0m\u001b[0m\n",
      "\u001b[1;31mKeyboardInterrupt\u001b[0m: "
     ]
    }
   ],
   "source": [
    "env = gym.make('CartPole-v1')\n",
    "\n",
    "Q_function_net = Q(state_space, action_space)\n",
    "Q_target_net = Q(state_space, action_space)\n",
    "\n",
    "optimizer = optim.Adam(Q_function_net.parameters(), lr=learning_rate) ## 그러므로 직접 뛰는 Q_player의 parameter만 변경.\n",
    "Q_target_net.load_state_dict(Q_function_net.state_dict()) ## Q의 뉴럴넷 파라미터를 target에 복사!\n",
    "\n",
    "step = 0 ## 총 step을 계산하기 위한 step.\n",
    "score = 0\n",
    "show_score = []\n",
    "for epi in range(episode):\n",
    "    obs = env.reset() ## 환경 초기화\n",
    "    for i in range(maximum_steps):\n",
    "        Q_values = Q_function_net(torch.Tensor(obs))\n",
    "        action = epsilon_greedy(Q_values, action_space, epsilon)\n",
    "        next_obs, reward, done, _ = env.step(action) ## _ 가 원래 info 정보를 가지고 있는데, 학습에 필요치 않음.\n",
    "\n",
    "        mask = 0 if done else 1 ## 게임이 종료됬으면, done이 1이면 mask =0 그냥 생존유무 표시용.\n",
    "\n",
    "        replay_buffer.append((obs, action, reward, next_obs, mask)) ## feature들을 저장\n",
    "\n",
    "        obs = next_obs ## current state를 이제 next_state로 변경\n",
    "        score += reward ## reward 갱신.\n",
    "        step += 1\n",
    "        \n",
    "        if step > initial_exploration: ## 초기 exploration step을 넘어서면 학습 시작.\n",
    "            epsilon -= epsilon_decay ## 학습해 감에 따라 epilon에 의존하기보단 학습된 정책에 의존되게.\n",
    "            epsilon = max(epsilon, 0.05) ## 그래도 가끔씩 새로운 exploration을 위해 최소 0.05은 주기.\n",
    "            random_mini_batch = random.sample(replay_buffer, batch_size) ## random하게 batch_size 만큼 데이터 뽑아줌.\n",
    "            train(Q_function_net, Q_target_net, random_mini_batch)\n",
    "\n",
    "        if done: ## 죽었다면 게임 초기화를 위한 반복문 탈출\n",
    "            break\n",
    "            \n",
    "    if epi % print_interval == 0 and epi != 0:\n",
    "        show_score.append(score/print_interval)\n",
    "        plt.plot(show_score)\n",
    "        plt.show()\n",
    "        print('episode: ',epi,' step: ',step,' epsilon: ',epsilon,' score: ',score/print_interval)\n",
    "        score = 0\n",
    "env.close()"
   ]
  },
  {
   "cell_type": "code",
   "execution_count": null,
   "metadata": {},
   "outputs": [],
   "source": []
  }
 ],
 "metadata": {
  "kernelspec": {
   "display_name": "Python 3",
   "language": "python",
   "name": "python3"
  },
  "language_info": {
   "codemirror_mode": {
    "name": "ipython",
    "version": 3
   },
   "file_extension": ".py",
   "mimetype": "text/x-python",
   "name": "python",
   "nbconvert_exporter": "python",
   "pygments_lexer": "ipython3",
   "version": "3.6.9"
  }
 },
 "nbformat": 4,
 "nbformat_minor": 2
}
